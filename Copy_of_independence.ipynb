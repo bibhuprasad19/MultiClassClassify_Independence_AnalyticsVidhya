{
  "nbformat": 4,
  "nbformat_minor": 0,
  "metadata": {
    "colab": {
      "name": "Copy of independence.ipynb",
      "provenance": [],
      "collapsed_sections": [],
      "include_colab_link": true
    },
    "kernelspec": {
      "name": "python3",
      "display_name": "Python 3"
    }
  },
  "cells": [
    {
      "cell_type": "markdown",
      "metadata": {
        "id": "view-in-github",
        "colab_type": "text"
      },
      "source": [
        "<a href=\"https://colab.research.google.com/github/bibhuprasad19/Topic_Modelling_of_Research_articles/blob/master/Copy_of_independence.ipynb\" target=\"_parent\"><img src=\"https://colab.research.google.com/assets/colab-badge.svg\" alt=\"Open In Colab\"/></a>"
      ]
    },
    {
      "cell_type": "code",
      "metadata": {
        "id": "UntXpFrs4buL",
        "colab_type": "code",
        "colab": {}
      },
      "source": [
        ""
      ],
      "execution_count": null,
      "outputs": []
    },
    {
      "cell_type": "code",
      "metadata": {
        "id": "JemhULWVeQOh",
        "colab_type": "code",
        "colab": {
          "base_uri": "https://localhost:8080/",
          "height": 34
        },
        "outputId": "7463498f-3408-4829-fee2-d8af20f6452b"
      },
      "source": [
        "from google.colab import drive\n",
        "drive.mount('/content/drive')"
      ],
      "execution_count": 1,
      "outputs": [
        {
          "output_type": "stream",
          "text": [
            "Mounted at /content/drive\n"
          ],
          "name": "stdout"
        }
      ]
    },
    {
      "cell_type": "code",
      "metadata": {
        "id": "5fHioIbYu7ub",
        "colab_type": "code",
        "colab": {}
      },
      "source": [
        "import pandas as pd"
      ],
      "execution_count": 2,
      "outputs": []
    },
    {
      "cell_type": "code",
      "metadata": {
        "id": "cUVxoCYtvQPo",
        "colab_type": "code",
        "colab": {}
      },
      "source": [
        "data=pd.read_csv('/content/drive/My Drive/independence/train.csv')"
      ],
      "execution_count": 39,
      "outputs": []
    },
    {
      "cell_type": "code",
      "metadata": {
        "id": "-D_q6udqgVfJ",
        "colab_type": "code",
        "colab": {}
      },
      "source": [
        "new_data=pd.read_csv('/content/drive/My Drive/independence/test.csv')"
      ],
      "execution_count": 40,
      "outputs": []
    },
    {
      "cell_type": "code",
      "metadata": {
        "id": "xuIUFX53NvQe",
        "colab_type": "code",
        "colab": {}
      },
      "source": [
        "first=pd.DataFrame(data['ABSTRACT'])\n",
        "sec=pd.DataFrame(new_data['ABSTRACT'])\n",
        "\n",
        "abst=pd.concat([first,sec],ignore_index=True)"
      ],
      "execution_count": 41,
      "outputs": []
    },
    {
      "cell_type": "code",
      "metadata": {
        "id": "YS_j4-Sb5F95",
        "colab_type": "code",
        "colab": {}
      },
      "source": [
        ""
      ],
      "execution_count": 5,
      "outputs": []
    },
    {
      "cell_type": "code",
      "metadata": {
        "id": "6j3J_Q7R5MBq",
        "colab_type": "code",
        "colab": {}
      },
      "source": [
        ""
      ],
      "execution_count": 5,
      "outputs": []
    },
    {
      "cell_type": "code",
      "metadata": {
        "id": "agcnDJHUkXZF",
        "colab_type": "code",
        "colab": {}
      },
      "source": [
        ""
      ],
      "execution_count": 5,
      "outputs": []
    },
    {
      "cell_type": "code",
      "metadata": {
        "id": "nUedrUJCvXaq",
        "colab_type": "code",
        "colab": {
          "base_uri": "https://localhost:8080/",
          "height": 306
        },
        "outputId": "9f92cd16-984a-4ffb-b80f-62f1a5e1a371"
      },
      "source": [
        "data.head()"
      ],
      "execution_count": 6,
      "outputs": [
        {
          "output_type": "execute_result",
          "data": {
            "text/html": [
              "<div>\n",
              "<style scoped>\n",
              "    .dataframe tbody tr th:only-of-type {\n",
              "        vertical-align: middle;\n",
              "    }\n",
              "\n",
              "    .dataframe tbody tr th {\n",
              "        vertical-align: top;\n",
              "    }\n",
              "\n",
              "    .dataframe thead th {\n",
              "        text-align: right;\n",
              "    }\n",
              "</style>\n",
              "<table border=\"1\" class=\"dataframe\">\n",
              "  <thead>\n",
              "    <tr style=\"text-align: right;\">\n",
              "      <th></th>\n",
              "      <th>ID</th>\n",
              "      <th>TITLE</th>\n",
              "      <th>ABSTRACT</th>\n",
              "      <th>Computer Science</th>\n",
              "      <th>Physics</th>\n",
              "      <th>Mathematics</th>\n",
              "      <th>Statistics</th>\n",
              "      <th>Quantitative Biology</th>\n",
              "      <th>Quantitative Finance</th>\n",
              "    </tr>\n",
              "  </thead>\n",
              "  <tbody>\n",
              "    <tr>\n",
              "      <th>0</th>\n",
              "      <td>1</td>\n",
              "      <td>Reconstructing Subject-Specific Effect Maps</td>\n",
              "      <td>Predictive models allow subject-specific inf...</td>\n",
              "      <td>1</td>\n",
              "      <td>0</td>\n",
              "      <td>0</td>\n",
              "      <td>0</td>\n",
              "      <td>0</td>\n",
              "      <td>0</td>\n",
              "    </tr>\n",
              "    <tr>\n",
              "      <th>1</th>\n",
              "      <td>2</td>\n",
              "      <td>Rotation Invariance Neural Network</td>\n",
              "      <td>Rotation invariance and translation invarian...</td>\n",
              "      <td>1</td>\n",
              "      <td>0</td>\n",
              "      <td>0</td>\n",
              "      <td>0</td>\n",
              "      <td>0</td>\n",
              "      <td>0</td>\n",
              "    </tr>\n",
              "    <tr>\n",
              "      <th>2</th>\n",
              "      <td>3</td>\n",
              "      <td>Spherical polyharmonics and Poisson kernels fo...</td>\n",
              "      <td>We introduce and develop the notion of spher...</td>\n",
              "      <td>0</td>\n",
              "      <td>0</td>\n",
              "      <td>1</td>\n",
              "      <td>0</td>\n",
              "      <td>0</td>\n",
              "      <td>0</td>\n",
              "    </tr>\n",
              "    <tr>\n",
              "      <th>3</th>\n",
              "      <td>4</td>\n",
              "      <td>A finite element approximation for the stochas...</td>\n",
              "      <td>The stochastic Landau--Lifshitz--Gilbert (LL...</td>\n",
              "      <td>0</td>\n",
              "      <td>0</td>\n",
              "      <td>1</td>\n",
              "      <td>0</td>\n",
              "      <td>0</td>\n",
              "      <td>0</td>\n",
              "    </tr>\n",
              "    <tr>\n",
              "      <th>4</th>\n",
              "      <td>5</td>\n",
              "      <td>Comparative study of Discrete Wavelet Transfor...</td>\n",
              "      <td>Fourier-transform infra-red (FTIR) spectra o...</td>\n",
              "      <td>1</td>\n",
              "      <td>0</td>\n",
              "      <td>0</td>\n",
              "      <td>1</td>\n",
              "      <td>0</td>\n",
              "      <td>0</td>\n",
              "    </tr>\n",
              "  </tbody>\n",
              "</table>\n",
              "</div>"
            ],
            "text/plain": [
              "   ID  ... Quantitative Finance\n",
              "0   1  ...                    0\n",
              "1   2  ...                    0\n",
              "2   3  ...                    0\n",
              "3   4  ...                    0\n",
              "4   5  ...                    0\n",
              "\n",
              "[5 rows x 9 columns]"
            ]
          },
          "metadata": {
            "tags": []
          },
          "execution_count": 6
        }
      ]
    },
    {
      "cell_type": "code",
      "metadata": {
        "id": "MnDajITO5YvD",
        "colab_type": "code",
        "colab": {
          "base_uri": "https://localhost:8080/",
          "height": 119
        },
        "outputId": "6d4264ca-32eb-4b66-f9fc-fcd3dace0c87"
      },
      "source": [
        "list(data.iloc[:,3:].columns.values)"
      ],
      "execution_count": 42,
      "outputs": [
        {
          "output_type": "execute_result",
          "data": {
            "text/plain": [
              "['Computer Science',\n",
              " 'Physics',\n",
              " 'Mathematics',\n",
              " 'Statistics',\n",
              " 'Quantitative Biology',\n",
              " 'Quantitative Finance']"
            ]
          },
          "metadata": {
            "tags": []
          },
          "execution_count": 42
        }
      ]
    },
    {
      "cell_type": "code",
      "metadata": {
        "id": "9UcSjyuJ5yo-",
        "colab_type": "code",
        "colab": {
          "base_uri": "https://localhost:8080/",
          "height": 533
        },
        "outputId": "7d7cda35-872f-46ed-97d3-f86cd2592dee"
      },
      "source": [
        "import matplotlib.pyplot as plt\n",
        "import seaborn as sns \n",
        "\n",
        "categories = list(data.iloc[:,3:].columns.values)\n",
        "sns.set(font_scale = 2)\n",
        "plt.figure(figsize=(15,8))\n",
        "ax= sns.barplot(categories, data.iloc[:,3:].sum().values)\n",
        "plt.title(\"labels in each category\", fontsize=24)\n",
        "plt.ylabel('Number of labels', fontsize=18)\n",
        "plt.xlabel('Label Type ', fontsize=8)\n",
        "#adding the text labels\n",
        "rects = ax.patches\n",
        "labels = data.iloc[:,3:].sum().values\n",
        "for rect, label in zip(rects, labels):\n",
        "    height = rect.get_height()\n",
        "    ax.text(rect.get_x() + rect.get_width()/2, height + 5, label, ha='center', va='bottom', fontsize=18)\n",
        "plt.show()"
      ],
      "execution_count": 43,
      "outputs": [
        {
          "output_type": "display_data",
          "data": {
            "image/png": "[encoded data removed]",
            "text/plain": [
              "<Figure size 1080x576 with 1 Axes>"
            ]
          },
          "metadata": {
            "tags": []
          }
        }
      ]
    },
    {
      "cell_type": "code",
      "metadata": {
        "id": "is-Nk9ilYuc2",
        "colab_type": "code",
        "colab": {
          "base_uri": "https://localhost:8080/",
          "height": 624
        },
        "outputId": "a4b8775e-8936-4a0b-fb25-e9dfac19b228"
      },
      "source": [
        "rowSums = data.iloc[:,3:].sum(axis=1)\n",
        "multiLabel_counts = rowSums.value_counts()\n",
        "multiLabel_counts = multiLabel_counts.iloc[:]\n",
        "sns.set(font_scale = 1)\n",
        "plt.figure(figsize=(10,10))\n",
        "ax = sns.barplot(multiLabel_counts.index, multiLabel_counts.values)\n",
        "plt.title(\"Comments having multiple labels \")\n",
        "plt.ylabel('Number of labels', fontsize=10)\n",
        "plt.xlabel('labels', fontsize=10)\n",
        "#adding the text labels\n",
        "rects = ax.patches\n",
        "labels = multiLabel_counts.values\n",
        "for rect, label in zip(rects, labels):\n",
        "    height = rect.get_height()\n",
        "    ax.text(rect.get_x() + rect.get_width()/2, height + 5, label, ha='center', va='bottom')\n",
        "plt.show()"
      ],
      "execution_count": 45,
      "outputs": [
        {
          "output_type": "display_data",
          "data": {
            "image/png": "[encoded data removed]",
            "text/plain": [
              "<Figure size 720x720 with 1 Axes>"
            ]
          },
          "metadata": {
            "tags": []
          }
        }
      ]
    },
    {
      "cell_type": "code",
      "metadata": {
        "id": "1ej2FSKYc6kV",
        "colab_type": "code",
        "colab": {
          "base_uri": "https://localhost:8080/",
          "height": 86
        },
        "outputId": "776f93db-35fc-4c54-8879-cc0cfde335d3"
      },
      "source": [
        "data['ABSTRACT'][1]"
      ],
      "execution_count": 46,
      "outputs": [
        {
          "output_type": "execute_result",
          "data": {
            "application/vnd.google.colaboratory.intrinsic+json": {
              "type": "string"
            },
            "text/plain": [
              "'  Rotation invariance and translation invariance have great values in image\\nrecognition tasks. In this paper, we bring a new architecture in convolutional\\nneural network (CNN) named cyclic convolutional layer to achieve rotation\\ninvariance in 2-D symbol recognition. We can also get the position and\\norientation of the 2-D symbol by the network to achieve detection purpose for\\nmultiple non-overlap target. Last but not least, this architecture can achieve\\none-shot learning in some cases using those invariance.\\n'"
            ]
          },
          "metadata": {
            "tags": []
          },
          "execution_count": 46
        }
      ]
    },
    {
      "cell_type": "code",
      "metadata": {
        "id": "UDpTbgxHb0e_",
        "colab_type": "code",
        "colab": {}
      },
      "source": [
        "import nltk\n",
        "from nltk.corpus import stopwords\n",
        "from nltk.stem.snowball import SnowballStemmer\n",
        "import re\n",
        "import sys\n",
        "import warnings\n",
        "data = data\n",
        "if not sys.warnoptions:\n",
        "    warnings.simplefilter(\"ignore\")\n",
        "def cleanHtml(sentence):\n",
        "    cleanr = re.compile('<.*?>')\n",
        "    cleantext = re.sub(cleanr, ' ', str(sentence))\n",
        "    return cleantext\n",
        "def cleanPunc(sentence): #function to clean the word of any punctuation or special characters\n",
        "    cleaned = re.sub(r'[?|!|\\'|\"|#]',r'',sentence)\n",
        "    cleaned = re.sub(r'[.|,|)|(|\\|/]',r' ',cleaned)\n",
        "    cleaned = cleaned.strip()\n",
        "    cleaned = cleaned.replace(\"\\n\",\" \")\n",
        "    return cleaned\n",
        "def keepAlpha(sentence):\n",
        "    alpha_sent = \"\"\n",
        "    for word in sentence.split():\n",
        "        alpha_word = re.sub('[^a-z A-Z]+', ' ', word)\n",
        "        alpha_sent += alpha_word\n",
        "        alpha_sent += \" \"\n",
        "    alpha_sent = alpha_sent.strip()\n",
        "    return alpha_sent\n",
        "data['ABSTRACT'] = data['ABSTRACT'].str.lower()\n",
        "data['ABSTRACT'] = data['ABSTRACT'].apply(cleanHtml)\n",
        "data['ABSTRACT']= data['ABSTRACT'].apply(keepAlpha)\n",
        "data['ABSTRACT']= data['ABSTRACT'].apply(cleanPunc)\n",
        "\n",
        "\n",
        "abst['ABSTRACT'] = abst['ABSTRACT'].str.lower()\n",
        "abst['ABSTRACT'] = abst['ABSTRACT'].apply(cleanHtml)\n",
        "abst['ABSTRACT']= abst['ABSTRACT'].apply(keepAlpha)\n",
        "abst['ABSTRACT']= abst['ABSTRACT'].apply(cleanPunc)"
      ],
      "execution_count": 47,
      "outputs": []
    },
    {
      "cell_type": "code",
      "metadata": {
        "id": "KERQItePcziA",
        "colab_type": "code",
        "colab": {
          "base_uri": "https://localhost:8080/",
          "height": 86
        },
        "outputId": "7ddfb3e1-46f9-443d-b287-273f4510cb08"
      },
      "source": [
        "data['ABSTRACT'][1]"
      ],
      "execution_count": 48,
      "outputs": [
        {
          "output_type": "execute_result",
          "data": {
            "application/vnd.google.colaboratory.intrinsic+json": {
              "type": "string"
            },
            "text/plain": [
              "'rotation invariance and translation invariance have great values in image recognition tasks  in this paper  we bring a new architecture in convolutional neural network  cnn  named cyclic convolutional layer to achieve rotation invariance in  d symbol recognition  we can also get the position and orientation of the  d symbol by the network to achieve detection purpose for multiple non overlap target  last but not least  this architecture can achieve one shot learning in some cases using those invariance'"
            ]
          },
          "metadata": {
            "tags": []
          },
          "execution_count": 48
        }
      ]
    },
    {
      "cell_type": "code",
      "metadata": {
        "id": "LvF_5JDsdLBV",
        "colab_type": "code",
        "colab": {
          "base_uri": "https://localhost:8080/",
          "height": 51
        },
        "outputId": "a9197938-3358-41b9-f253-36f323ef18a0"
      },
      "source": [
        "import nltk\n",
        "nltk.download('stopwords')\n",
        "\n",
        "stop_words = set(stopwords.words('english'))\n",
        "stop_words.update(['zero','one','two','three','four','five','six','seven','eight','nine','ten','may','also','across','among','beside','however','yet','within'])\n",
        "re_stop_words = re.compile(r\"\\b(\" + \"|\".join(stop_words) + \")\\\\W\", re.I)\n",
        "def removeStopWords(sentence):\n",
        "    global re_stop_words\n",
        "    return re_stop_words.sub(\" \", sentence)\n",
        "data['ABSTRACT'] = data['ABSTRACT'].apply(removeStopWords)\n",
        "\n",
        "abst['ABSTRACT'] = abst['ABSTRACT'].apply(removeStopWords)"
      ],
      "execution_count": 49,
      "outputs": [
        {
          "output_type": "stream",
          "text": [
            "[nltk_data] Downloading package stopwords to /root/nltk_data...\n",
            "[nltk_data]   Package stopwords is already up-to-date!\n"
          ],
          "name": "stdout"
        }
      ]
    },
    {
      "cell_type": "code",
      "metadata": {
        "id": "dJRKO-E-dqhQ",
        "colab_type": "code",
        "colab": {
          "base_uri": "https://localhost:8080/",
          "height": 69
        },
        "outputId": "165e8ad2-4818-4579-944c-59d71d676878"
      },
      "source": [
        "data['ABSTRACT'][1]"
      ],
      "execution_count": 50,
      "outputs": [
        {
          "output_type": "execute_result",
          "data": {
            "application/vnd.google.colaboratory.intrinsic+json": {
              "type": "string"
            },
            "text/plain": [
              "'rotation invariance  translation invariance  great values  image recognition tasks    paper   bring  new architecture  convolutional neural network  cnn  named cyclic convolutional layer  achieve rotation invariance    symbol recognition     get  position  orientation     symbol   network  achieve detection purpose  multiple non overlap target  last   least   architecture  achieve  shot learning   cases using  invariance'"
            ]
          },
          "metadata": {
            "tags": []
          },
          "execution_count": 50
        }
      ]
    },
    {
      "cell_type": "code",
      "metadata": {
        "id": "wQaa_0Ajdy9z",
        "colab_type": "code",
        "colab": {}
      },
      "source": [
        "stemmer = SnowballStemmer(\"english\")\n",
        "def stemming(sentence):\n",
        "    stemSentence = \"\"\n",
        "    for word in sentence.split():\n",
        "        stem = stemmer.stem(word)\n",
        "        stemSentence += stem\n",
        "        stemSentence += \" \"\n",
        "    stemSentence = stemSentence.strip()\n",
        "    return stemSentence\n",
        "data['ABSTRACT'] = data['ABSTRACT'].apply(stemming)\n",
        "\n",
        "\n",
        "abst['ABSTRACT'] = abst['ABSTRACT'].apply(stemming)"
      ],
      "execution_count": 51,
      "outputs": []
    },
    {
      "cell_type": "code",
      "metadata": {
        "id": "aIZiD0TSefe2",
        "colab_type": "code",
        "colab": {
          "base_uri": "https://localhost:8080/",
          "height": 606
        },
        "outputId": "258b0011-5267-4859-dc49-373386b93b6c"
      },
      "source": [
        "data"
      ],
      "execution_count": 52,
      "outputs": [
        {
          "output_type": "execute_result",
          "data": {
            "text/html": [
              "<div>\n",
              "<style scoped>\n",
              "    .dataframe tbody tr th:only-of-type {\n",
              "        vertical-align: middle;\n",
              "    }\n",
              "\n",
              "    .dataframe tbody tr th {\n",
              "        vertical-align: top;\n",
              "    }\n",
              "\n",
              "    .dataframe thead th {\n",
              "        text-align: right;\n",
              "    }\n",
              "</style>\n",
              "<table border=\"1\" class=\"dataframe\">\n",
              "  <thead>\n",
              "    <tr style=\"text-align: right;\">\n",
              "      <th></th>\n",
              "      <th>ID</th>\n",
              "      <th>TITLE</th>\n",
              "      <th>ABSTRACT</th>\n",
              "      <th>Computer Science</th>\n",
              "      <th>Physics</th>\n",
              "      <th>Mathematics</th>\n",
              "      <th>Statistics</th>\n",
              "      <th>Quantitative Biology</th>\n",
              "      <th>Quantitative Finance</th>\n",
              "    </tr>\n",
              "  </thead>\n",
              "  <tbody>\n",
              "    <tr>\n",
              "      <th>0</th>\n",
              "      <td>1</td>\n",
              "      <td>Reconstructing Subject-Specific Effect Maps</td>\n",
              "      <td>predict model allow subject specif infer analy...</td>\n",
              "      <td>1</td>\n",
              "      <td>0</td>\n",
              "      <td>0</td>\n",
              "      <td>0</td>\n",
              "      <td>0</td>\n",
              "      <td>0</td>\n",
              "    </tr>\n",
              "    <tr>\n",
              "      <th>1</th>\n",
              "      <td>2</td>\n",
              "      <td>Rotation Invariance Neural Network</td>\n",
              "      <td>rotat invari translat invari great valu imag r...</td>\n",
              "      <td>1</td>\n",
              "      <td>0</td>\n",
              "      <td>0</td>\n",
              "      <td>0</td>\n",
              "      <td>0</td>\n",
              "      <td>0</td>\n",
              "    </tr>\n",
              "    <tr>\n",
              "      <th>2</th>\n",
              "      <td>3</td>\n",
              "      <td>Spherical polyharmonics and Poisson kernels fo...</td>\n",
              "      <td>introduc develop notion spheric polyharmon nat...</td>\n",
              "      <td>0</td>\n",
              "      <td>0</td>\n",
              "      <td>1</td>\n",
              "      <td>0</td>\n",
              "      <td>0</td>\n",
              "      <td>0</td>\n",
              "    </tr>\n",
              "    <tr>\n",
              "      <th>3</th>\n",
              "      <td>4</td>\n",
              "      <td>A finite element approximation for the stochas...</td>\n",
              "      <td>stochast landau lifshitz gilbert llg equat cou...</td>\n",
              "      <td>0</td>\n",
              "      <td>0</td>\n",
              "      <td>1</td>\n",
              "      <td>0</td>\n",
              "      <td>0</td>\n",
              "      <td>0</td>\n",
              "    </tr>\n",
              "    <tr>\n",
              "      <th>4</th>\n",
              "      <td>5</td>\n",
              "      <td>Comparative study of Discrete Wavelet Transfor...</td>\n",
              "      <td>fourier transform infra red ftir spectra sampl...</td>\n",
              "      <td>1</td>\n",
              "      <td>0</td>\n",
              "      <td>0</td>\n",
              "      <td>1</td>\n",
              "      <td>0</td>\n",
              "      <td>0</td>\n",
              "    </tr>\n",
              "    <tr>\n",
              "      <th>...</th>\n",
              "      <td>...</td>\n",
              "      <td>...</td>\n",
              "      <td>...</td>\n",
              "      <td>...</td>\n",
              "      <td>...</td>\n",
              "      <td>...</td>\n",
              "      <td>...</td>\n",
              "      <td>...</td>\n",
              "      <td>...</td>\n",
              "    </tr>\n",
              "    <tr>\n",
              "      <th>20967</th>\n",
              "      <td>20968</td>\n",
              "      <td>Contemporary machine learning: a guide for pra...</td>\n",
              "      <td>machin learn find increas broad applic physic ...</td>\n",
              "      <td>1</td>\n",
              "      <td>1</td>\n",
              "      <td>0</td>\n",
              "      <td>0</td>\n",
              "      <td>0</td>\n",
              "      <td>0</td>\n",
              "    </tr>\n",
              "    <tr>\n",
              "      <th>20968</th>\n",
              "      <td>20969</td>\n",
              "      <td>Uniform diamond coatings on WC-Co hard alloy c...</td>\n",
              "      <td>polycrystallin diamond coat grown cement carbi...</td>\n",
              "      <td>0</td>\n",
              "      <td>1</td>\n",
              "      <td>0</td>\n",
              "      <td>0</td>\n",
              "      <td>0</td>\n",
              "      <td>0</td>\n",
              "    </tr>\n",
              "    <tr>\n",
              "      <th>20969</th>\n",
              "      <td>20970</td>\n",
              "      <td>Analysing Soccer Games with Clustering and Con...</td>\n",
              "      <td>present new approach identifi situat behaviour...</td>\n",
              "      <td>1</td>\n",
              "      <td>0</td>\n",
              "      <td>0</td>\n",
              "      <td>0</td>\n",
              "      <td>0</td>\n",
              "      <td>0</td>\n",
              "    </tr>\n",
              "    <tr>\n",
              "      <th>20970</th>\n",
              "      <td>20971</td>\n",
              "      <td>On the Efficient Simulation of the Left-Tail o...</td>\n",
              "      <td>sum log normal variat encount mani challeng ap...</td>\n",
              "      <td>0</td>\n",
              "      <td>0</td>\n",
              "      <td>1</td>\n",
              "      <td>1</td>\n",
              "      <td>0</td>\n",
              "      <td>0</td>\n",
              "    </tr>\n",
              "    <tr>\n",
              "      <th>20971</th>\n",
              "      <td>20972</td>\n",
              "      <td>Why optional stopping is a problem for Bayesians</td>\n",
              "      <td>recent option stop subject debat bayesian psyc...</td>\n",
              "      <td>0</td>\n",
              "      <td>0</td>\n",
              "      <td>1</td>\n",
              "      <td>1</td>\n",
              "      <td>0</td>\n",
              "      <td>0</td>\n",
              "    </tr>\n",
              "  </tbody>\n",
              "</table>\n",
              "<p>20972 rows × 9 columns</p>\n",
              "</div>"
            ],
            "text/plain": [
              "          ID  ... Quantitative Finance\n",
              "0          1  ...                    0\n",
              "1          2  ...                    0\n",
              "2          3  ...                    0\n",
              "3          4  ...                    0\n",
              "4          5  ...                    0\n",
              "...      ...  ...                  ...\n",
              "20967  20968  ...                    0\n",
              "20968  20969  ...                    0\n",
              "20969  20970  ...                    0\n",
              "20970  20971  ...                    0\n",
              "20971  20972  ...                    0\n",
              "\n",
              "[20972 rows x 9 columns]"
            ]
          },
          "metadata": {
            "tags": []
          },
          "execution_count": 52
        }
      ]
    },
    {
      "cell_type": "code",
      "metadata": {
        "id": "7zQO-zbtfrBD",
        "colab_type": "code",
        "colab": {}
      },
      "source": [
        "data.drop(['TITLE',\"ID\"],axis=1,inplace=True)"
      ],
      "execution_count": 53,
      "outputs": []
    },
    {
      "cell_type": "code",
      "metadata": {
        "id": "LDFyhsfK3qtu",
        "colab_type": "code",
        "colab": {
          "base_uri": "https://localhost:8080/",
          "height": 419
        },
        "outputId": "d3131cf2-9e0a-4d19-8cbe-d83e41addb81"
      },
      "source": [
        "data"
      ],
      "execution_count": 54,
      "outputs": [
        {
          "output_type": "execute_result",
          "data": {
            "text/html": [
              "<div>\n",
              "<style scoped>\n",
              "    .dataframe tbody tr th:only-of-type {\n",
              "        vertical-align: middle;\n",
              "    }\n",
              "\n",
              "    .dataframe tbody tr th {\n",
              "        vertical-align: top;\n",
              "    }\n",
              "\n",
              "    .dataframe thead th {\n",
              "        text-align: right;\n",
              "    }\n",
              "</style>\n",
              "<table border=\"1\" class=\"dataframe\">\n",
              "  <thead>\n",
              "    <tr style=\"text-align: right;\">\n",
              "      <th></th>\n",
              "      <th>ABSTRACT</th>\n",
              "      <th>Computer Science</th>\n",
              "      <th>Physics</th>\n",
              "      <th>Mathematics</th>\n",
              "      <th>Statistics</th>\n",
              "      <th>Quantitative Biology</th>\n",
              "      <th>Quantitative Finance</th>\n",
              "    </tr>\n",
              "  </thead>\n",
              "  <tbody>\n",
              "    <tr>\n",
              "      <th>0</th>\n",
              "      <td>predict model allow subject specif infer analy...</td>\n",
              "      <td>1</td>\n",
              "      <td>0</td>\n",
              "      <td>0</td>\n",
              "      <td>0</td>\n",
              "      <td>0</td>\n",
              "      <td>0</td>\n",
              "    </tr>\n",
              "    <tr>\n",
              "      <th>1</th>\n",
              "      <td>rotat invari translat invari great valu imag r...</td>\n",
              "      <td>1</td>\n",
              "      <td>0</td>\n",
              "      <td>0</td>\n",
              "      <td>0</td>\n",
              "      <td>0</td>\n",
              "      <td>0</td>\n",
              "    </tr>\n",
              "    <tr>\n",
              "      <th>2</th>\n",
              "      <td>introduc develop notion spheric polyharmon nat...</td>\n",
              "      <td>0</td>\n",
              "      <td>0</td>\n",
              "      <td>1</td>\n",
              "      <td>0</td>\n",
              "      <td>0</td>\n",
              "      <td>0</td>\n",
              "    </tr>\n",
              "    <tr>\n",
              "      <th>3</th>\n",
              "      <td>stochast landau lifshitz gilbert llg equat cou...</td>\n",
              "      <td>0</td>\n",
              "      <td>0</td>\n",
              "      <td>1</td>\n",
              "      <td>0</td>\n",
              "      <td>0</td>\n",
              "      <td>0</td>\n",
              "    </tr>\n",
              "    <tr>\n",
              "      <th>4</th>\n",
              "      <td>fourier transform infra red ftir spectra sampl...</td>\n",
              "      <td>1</td>\n",
              "      <td>0</td>\n",
              "      <td>0</td>\n",
              "      <td>1</td>\n",
              "      <td>0</td>\n",
              "      <td>0</td>\n",
              "    </tr>\n",
              "    <tr>\n",
              "      <th>...</th>\n",
              "      <td>...</td>\n",
              "      <td>...</td>\n",
              "      <td>...</td>\n",
              "      <td>...</td>\n",
              "      <td>...</td>\n",
              "      <td>...</td>\n",
              "      <td>...</td>\n",
              "    </tr>\n",
              "    <tr>\n",
              "      <th>20967</th>\n",
              "      <td>machin learn find increas broad applic physic ...</td>\n",
              "      <td>1</td>\n",
              "      <td>1</td>\n",
              "      <td>0</td>\n",
              "      <td>0</td>\n",
              "      <td>0</td>\n",
              "      <td>0</td>\n",
              "    </tr>\n",
              "    <tr>\n",
              "      <th>20968</th>\n",
              "      <td>polycrystallin diamond coat grown cement carbi...</td>\n",
              "      <td>0</td>\n",
              "      <td>1</td>\n",
              "      <td>0</td>\n",
              "      <td>0</td>\n",
              "      <td>0</td>\n",
              "      <td>0</td>\n",
              "    </tr>\n",
              "    <tr>\n",
              "      <th>20969</th>\n",
              "      <td>present new approach identifi situat behaviour...</td>\n",
              "      <td>1</td>\n",
              "      <td>0</td>\n",
              "      <td>0</td>\n",
              "      <td>0</td>\n",
              "      <td>0</td>\n",
              "      <td>0</td>\n",
              "    </tr>\n",
              "    <tr>\n",
              "      <th>20970</th>\n",
              "      <td>sum log normal variat encount mani challeng ap...</td>\n",
              "      <td>0</td>\n",
              "      <td>0</td>\n",
              "      <td>1</td>\n",
              "      <td>1</td>\n",
              "      <td>0</td>\n",
              "      <td>0</td>\n",
              "    </tr>\n",
              "    <tr>\n",
              "      <th>20971</th>\n",
              "      <td>recent option stop subject debat bayesian psyc...</td>\n",
              "      <td>0</td>\n",
              "      <td>0</td>\n",
              "      <td>1</td>\n",
              "      <td>1</td>\n",
              "      <td>0</td>\n",
              "      <td>0</td>\n",
              "    </tr>\n",
              "  </tbody>\n",
              "</table>\n",
              "<p>20972 rows × 7 columns</p>\n",
              "</div>"
            ],
            "text/plain": [
              "                                                ABSTRACT  ...  Quantitative Finance\n",
              "0      predict model allow subject specif infer analy...  ...                     0\n",
              "1      rotat invari translat invari great valu imag r...  ...                     0\n",
              "2      introduc develop notion spheric polyharmon nat...  ...                     0\n",
              "3      stochast landau lifshitz gilbert llg equat cou...  ...                     0\n",
              "4      fourier transform infra red ftir spectra sampl...  ...                     0\n",
              "...                                                  ...  ...                   ...\n",
              "20967  machin learn find increas broad applic physic ...  ...                     0\n",
              "20968  polycrystallin diamond coat grown cement carbi...  ...                     0\n",
              "20969  present new approach identifi situat behaviour...  ...                     0\n",
              "20970  sum log normal variat encount mani challeng ap...  ...                     0\n",
              "20971  recent option stop subject debat bayesian psyc...  ...                     0\n",
              "\n",
              "[20972 rows x 7 columns]"
            ]
          },
          "metadata": {
            "tags": []
          },
          "execution_count": 54
        }
      ]
    },
    {
      "cell_type": "code",
      "metadata": {
        "id": "7851iGJigyVj",
        "colab_type": "code",
        "colab": {}
      },
      "source": [
        ""
      ],
      "execution_count": 54,
      "outputs": []
    },
    {
      "cell_type": "code",
      "metadata": {
        "id": "gzKM5C83hHSk",
        "colab_type": "code",
        "colab": {
          "base_uri": "https://localhost:8080/",
          "height": 137
        },
        "outputId": "ba03d2cc-5f73-4334-dd12-1ae08a5fa609"
      },
      "source": [
        "abst['ABSTRACT'][0]"
      ],
      "execution_count": 55,
      "outputs": [
        {
          "output_type": "execute_result",
          "data": {
            "application/vnd.google.colaboratory.intrinsic+json": {
              "type": "string"
            },
            "text/plain": [
              "'predict model allow subject specif infer analyz diseas relat alter neuroimag data given subject data infer made level global e identifiy condit presenc subject local e detect condit effect individu measur extract subject data global infer wide use local infer use form subject specif effect map rare use exist model often yield noisi detect compos dispers isol island articl propos reconstruct method name rsm improv subject specif detect predict model approach particular binari classifi rsm specif aim reduc nois due sampl error associ use finit sampl exampl train classifi propos method wrapper type algorithm use differ binari classifi diagnost manner e without inform condit presenc reconstruct pose maximum posteriori problem prior model whose paramet estim train data classifi specif fashion experiment evalu perform synthet generat data data alzheim diseas neuroimag initi adni databas result synthet data demonstr use rsm yield higher detect accuraci compar use model direct bootstrap averag analys adni dataset show rsm improv correl subject specif detect cortic thick data non imag marker alzheim diseas ad mini mental state examin score cerebrospin fluid amyloid beta level reliabl studi longitudin adni dataset show improv detect reliabl rsm use'"
            ]
          },
          "metadata": {
            "tags": []
          },
          "execution_count": 55
        }
      ]
    },
    {
      "cell_type": "code",
      "metadata": {
        "id": "XmiOPn7aemrf",
        "colab_type": "code",
        "colab": {}
      },
      "source": [
        "from sklearn.model_selection import train_test_split\n",
        "train, test = train_test_split(data,  test_size=0.2)\n",
        "from sklearn.feature_extraction.text import TfidfVectorizer\n",
        "\n",
        "\n",
        "\n",
        "vectorizer = TfidfVectorizer()\n",
        "\n",
        "vectorizer.fit(abst.ABSTRACT)\n",
        "\n",
        "x_train = vectorizer.transform(train['ABSTRACT'])\n",
        "\n",
        "\n",
        "y_train = train.drop(labels = ['ABSTRACT'], axis=1)\n",
        "x_test = vectorizer.transform(test['ABSTRACT'])\n",
        "y_test = test.drop(labels = ['ABSTRACT'], axis=1)"
      ],
      "execution_count": 56,
      "outputs": []
    },
    {
      "cell_type": "code",
      "metadata": {
        "id": "KHswjhw46PwK",
        "colab_type": "code",
        "colab": {
          "base_uri": "https://localhost:8080/",
          "height": 34
        },
        "outputId": "f3694b2f-4aa2-4594-9d72-ab1efdd7dae7"
      },
      "source": [
        "x_test.toarray().shape"
      ],
      "execution_count": 57,
      "outputs": [
        {
          "output_type": "execute_result",
          "data": {
            "text/plain": [
              "(4195, 41680)"
            ]
          },
          "metadata": {
            "tags": []
          },
          "execution_count": 57
        }
      ]
    },
    {
      "cell_type": "code",
      "metadata": {
        "id": "L49DovelhGB2",
        "colab_type": "code",
        "colab": {}
      },
      "source": [
        ""
      ],
      "execution_count": 57,
      "outputs": []
    },
    {
      "cell_type": "code",
      "metadata": {
        "id": "aVDsPQlqV-NI",
        "colab_type": "code",
        "colab": {
          "base_uri": "https://localhost:8080/",
          "height": 34
        },
        "outputId": "5af4a417-86c8-45f9-fcea-0e384524458f"
      },
      "source": [
        "len(vectorizer.get_feature_names())"
      ],
      "execution_count": 58,
      "outputs": [
        {
          "output_type": "execute_result",
          "data": {
            "text/plain": [
              "41680"
            ]
          },
          "metadata": {
            "tags": []
          },
          "execution_count": 58
        }
      ]
    },
    {
      "cell_type": "code",
      "metadata": {
        "id": "ncJKKj8xlNZQ",
        "colab_type": "code",
        "colab": {}
      },
      "source": [
        ""
      ],
      "execution_count": 58,
      "outputs": []
    },
    {
      "cell_type": "code",
      "metadata": {
        "id": "v_PKhzwZcOK4",
        "colab_type": "code",
        "colab": {}
      },
      "source": [
        "from sklearn.metrics import f1_score"
      ],
      "execution_count": 59,
      "outputs": []
    },
    {
      "cell_type": "code",
      "metadata": {
        "id": "Kt5I8rVMlnFz",
        "colab_type": "code",
        "colab": {}
      },
      "source": [
        ""
      ],
      "execution_count": 59,
      "outputs": []
    },
    {
      "cell_type": "code",
      "metadata": {
        "id": "dKHEB6iH2cj2",
        "colab_type": "code",
        "colab": {}
      },
      "source": [
        "from sklearn.linear_model import LogisticRegression\n",
        "for i in ['Computer Science','Physics','Mathematics','Statistics','Quantitative Biology','Quantitative Finance']:\n",
        "  clf=LogisticRegression()\n",
        "  \n",
        "  if(i=='Computer Science'):\n",
        "    model_cse=clf.fit(x_train,y_train[i])\n",
        "    Computer_science=pd.DataFrame(model_cse.predict(x_test))\n",
        "  elif(i=='Physics'):\n",
        "    model_phy=clf.fit(x_train,y_train[i])\n",
        "    Physics=pd.DataFrame(model_phy.predict(x_test))  \n",
        "  elif(i=='Mathematics'):\n",
        "    model_math=clf.fit(x_train,y_train[i])\n",
        "    Mathematics=pd.DataFrame(model_math.predict(x_test)) \n",
        "  elif(i=='Statistics'):\n",
        "    model_stat=clf.fit(x_train,y_train[i])\n",
        "    Statistics=pd.DataFrame(model_stat.predict(x_test)) \n",
        "  elif(i=='Quantitative Biology'):\n",
        "    model_bio=clf.fit(x_train,y_train[i])\n",
        "    Quantitative_Biology=pd.DataFrame(model_bio.predict(x_test)) \n",
        "  elif(i=='Quantitative Finance'):\n",
        "    model_fin=clf.fit(x_train,y_train[i])\n",
        "    Quantitative_Finance=pd.DataFrame(model_fin.predict(x_test))     \n",
        "\n"
      ],
      "execution_count": 60,
      "outputs": []
    },
    {
      "cell_type": "code",
      "metadata": {
        "id": "HZjTmVy05DXS",
        "colab_type": "code",
        "colab": {
          "base_uri": "https://localhost:8080/",
          "height": 119
        },
        "outputId": "eeb3e0df-99bb-4ebe-a7ec-d03dcc4784e5"
      },
      "source": [
        "#f1 scores\n",
        "print('computerscience:',f1_score(y_test['Computer Science'],Computer_science))\n",
        "print('physics:',f1_score(y_test['Physics'],Physics))\n",
        "print('maths:',f1_score(y_test['Mathematics'],Mathematics))\n",
        "print('statistics:',f1_score(y_test['Statistics'],Statistics))\n",
        "print('Biology:',f1_score(y_test['Quantitative Biology'],Quantitative_Biology))\n",
        "print('Quantitative Finance:',f1_score(y_test['Quantitative Finance'],Quantitative_Finance))"
      ],
      "execution_count": 61,
      "outputs": [
        {
          "output_type": "stream",
          "text": [
            "computerscience: 0.8273299028016008\n",
            "physics: 0.8609576427255984\n",
            "maths: 0.7977422389463783\n",
            "statistics: 0.7267904509283819\n",
            "Biology: 0.12903225806451613\n",
            "Quantitative Finance: 0.16393442622950818\n"
          ],
          "name": "stdout"
        }
      ]
    },
    {
      "cell_type": "markdown",
      "metadata": {
        "id": "D-CBbPe5AFBk",
        "colab_type": "text"
      },
      "source": [
        "TESTING"
      ]
    },
    {
      "cell_type": "code",
      "metadata": {
        "id": "wWSSVAAN9BEI",
        "colab_type": "code",
        "colab": {}
      },
      "source": [
        "\n"
      ],
      "execution_count": 61,
      "outputs": []
    },
    {
      "cell_type": "code",
      "metadata": {
        "id": "kjEns-Wf9MoG",
        "colab_type": "code",
        "colab": {}
      },
      "source": [
        "\n",
        "new_data['ABSTRACT'] = new_data['ABSTRACT'].str.lower()\n",
        "new_data['ABSTRACT'] = new_data['ABSTRACT'].apply(cleanHtml)\n",
        "new_data['ABSTRACT'] = new_data['ABSTRACT'].apply(cleanPunc)\n",
        "new_data['ABSTRACT'] = new_data['ABSTRACT'].apply(keepAlpha)\n"
      ],
      "execution_count": 62,
      "outputs": []
    },
    {
      "cell_type": "code",
      "metadata": {
        "id": "I4tY2SDi9a6q",
        "colab_type": "code",
        "colab": {}
      },
      "source": [
        "\n",
        "new_data['ABSTRACT'] = new_data['ABSTRACT'].apply(removeStopWords)"
      ],
      "execution_count": 63,
      "outputs": []
    },
    {
      "cell_type": "code",
      "metadata": {
        "id": "Nw9UJ-3mqDat",
        "colab_type": "code",
        "colab": {}
      },
      "source": [
        "\n",
        "new_data['ABSTRACT'] = new_data['ABSTRACT'].apply(stemming)"
      ],
      "execution_count": 64,
      "outputs": []
    },
    {
      "cell_type": "code",
      "metadata": {
        "id": "m8E10F8tAwdb",
        "colab_type": "code",
        "colab": {}
      },
      "source": [
        "new_data.drop(['TITLE',\"ID\"],axis=1,inplace=True)"
      ],
      "execution_count": 65,
      "outputs": []
    },
    {
      "cell_type": "code",
      "metadata": {
        "id": "w0hV9PjPAy2q",
        "colab_type": "code",
        "colab": {
          "base_uri": "https://localhost:8080/",
          "height": 34
        },
        "outputId": "c7ce7bd6-6dd1-424a-93cb-ef45394197c5"
      },
      "source": [
        "new_data['ABSTRACT'][0]\n",
        "new_data.shape"
      ],
      "execution_count": 66,
      "outputs": [
        {
          "output_type": "execute_result",
          "data": {
            "text/plain": [
              "(8989, 1)"
            ]
          },
          "metadata": {
            "tags": []
          },
          "execution_count": 66
        }
      ]
    },
    {
      "cell_type": "code",
      "metadata": {
        "id": "Jn_0MDLWymC9",
        "colab_type": "code",
        "colab": {
          "base_uri": "https://localhost:8080/",
          "height": 34
        },
        "outputId": "ec71fdc2-5966-4bf8-d6f8-c36f864d24b3"
      },
      "source": [
        "\n",
        "submit_data = vectorizer.transform(new_data['ABSTRACT'])\n",
        "\n",
        "submit_data.shape"
      ],
      "execution_count": 67,
      "outputs": [
        {
          "output_type": "execute_result",
          "data": {
            "text/plain": [
              "(8989, 41680)"
            ]
          },
          "metadata": {
            "tags": []
          },
          "execution_count": 67
        }
      ]
    },
    {
      "cell_type": "code",
      "metadata": {
        "id": "Z2PcjsK1X1Hh",
        "colab_type": "code",
        "colab": {
          "base_uri": "https://localhost:8080/",
          "height": 51
        },
        "outputId": "ec046cb5-d9a0-4cc1-c6e5-e5c86c527f50"
      },
      "source": [
        "submit_data.T"
      ],
      "execution_count": 68,
      "outputs": [
        {
          "output_type": "execute_result",
          "data": {
            "text/plain": [
              "<41680x8989 sparse matrix of type '<class 'numpy.float64'>'\n",
              "\twith 563843 stored elements in Compressed Sparse Column format>"
            ]
          },
          "metadata": {
            "tags": []
          },
          "execution_count": 68
        }
      ]
    },
    {
      "cell_type": "code",
      "metadata": {
        "id": "KdbsoTgr8_GA",
        "colab_type": "code",
        "colab": {}
      },
      "source": [
        "\n",
        "Computer_science_new=pd.DataFrame(model_cse.predict(submit_data))\n",
        "\n",
        "Physics_new=pd.DataFrame(model_phy.predict(submit_data))  \n",
        "\n",
        "Mathematics_new=pd.DataFrame(model_math.predict(submit_data)) \n",
        "\n",
        "Statistics_new=pd.DataFrame(model_stat.predict(submit_data)) \n",
        "\n",
        "Quantitative_Biology_new=pd.DataFrame(model_bio.predict(submit_data)) \n",
        "\n",
        "Quantitative_Finance_new=pd.DataFrame(model_fin.predict(submit_data)) "
      ],
      "execution_count": 69,
      "outputs": []
    },
    {
      "cell_type": "code",
      "metadata": {
        "id": "CA1J3eXFBsx4",
        "colab_type": "code",
        "colab": {}
      },
      "source": [
        ""
      ],
      "execution_count": 69,
      "outputs": []
    },
    {
      "cell_type": "code",
      "metadata": {
        "id": "psIM7HW7f85G",
        "colab_type": "code",
        "colab": {}
      },
      "source": [
        "\n",
        "de=pd.read_csv('/content/drive/My Drive/independence/test.csv')"
      ],
      "execution_count": 70,
      "outputs": []
    },
    {
      "cell_type": "code",
      "metadata": {
        "id": "cgEPg9DMBs7l",
        "colab_type": "code",
        "colab": {}
      },
      "source": [
        "final_submit=pd.DataFrame({'ID':de['ID'],'Computer Science':Computer_science_new[0],'Physics':Physics_new[0],\"Mathematics\":Mathematics_new[0],'Statistics':Statistics_new[0],'Quantitative Biology':Quantitative_Biology_new[0],\n",
        "                           'Quantitative Finance':Quantitative_Finance_new[0]})"
      ],
      "execution_count": 71,
      "outputs": []
    },
    {
      "cell_type": "code",
      "metadata": {
        "id": "s0bR1QEtgXaD",
        "colab_type": "code",
        "colab": {
          "base_uri": "https://localhost:8080/",
          "height": 419
        },
        "outputId": "4f4c7d8f-e237-462a-896a-cb4b0aa447c8"
      },
      "source": [
        "final_submit"
      ],
      "execution_count": 72,
      "outputs": [
        {
          "output_type": "execute_result",
          "data": {
            "text/html": [
              "<div>\n",
              "<style scoped>\n",
              "    .dataframe tbody tr th:only-of-type {\n",
              "        vertical-align: middle;\n",
              "    }\n",
              "\n",
              "    .dataframe tbody tr th {\n",
              "        vertical-align: top;\n",
              "    }\n",
              "\n",
              "    .dataframe thead th {\n",
              "        text-align: right;\n",
              "    }\n",
              "</style>\n",
              "<table border=\"1\" class=\"dataframe\">\n",
              "  <thead>\n",
              "    <tr style=\"text-align: right;\">\n",
              "      <th></th>\n",
              "      <th>ID</th>\n",
              "      <th>Computer Science</th>\n",
              "      <th>Physics</th>\n",
              "      <th>Mathematics</th>\n",
              "      <th>Statistics</th>\n",
              "      <th>Quantitative Biology</th>\n",
              "      <th>Quantitative Finance</th>\n",
              "    </tr>\n",
              "  </thead>\n",
              "  <tbody>\n",
              "    <tr>\n",
              "      <th>0</th>\n",
              "      <td>20973</td>\n",
              "      <td>0</td>\n",
              "      <td>0</td>\n",
              "      <td>0</td>\n",
              "      <td>1</td>\n",
              "      <td>0</td>\n",
              "      <td>0</td>\n",
              "    </tr>\n",
              "    <tr>\n",
              "      <th>1</th>\n",
              "      <td>20974</td>\n",
              "      <td>0</td>\n",
              "      <td>1</td>\n",
              "      <td>0</td>\n",
              "      <td>0</td>\n",
              "      <td>0</td>\n",
              "      <td>0</td>\n",
              "    </tr>\n",
              "    <tr>\n",
              "      <th>2</th>\n",
              "      <td>20975</td>\n",
              "      <td>1</td>\n",
              "      <td>0</td>\n",
              "      <td>0</td>\n",
              "      <td>0</td>\n",
              "      <td>0</td>\n",
              "      <td>0</td>\n",
              "    </tr>\n",
              "    <tr>\n",
              "      <th>3</th>\n",
              "      <td>20976</td>\n",
              "      <td>0</td>\n",
              "      <td>1</td>\n",
              "      <td>0</td>\n",
              "      <td>0</td>\n",
              "      <td>0</td>\n",
              "      <td>0</td>\n",
              "    </tr>\n",
              "    <tr>\n",
              "      <th>4</th>\n",
              "      <td>20977</td>\n",
              "      <td>1</td>\n",
              "      <td>0</td>\n",
              "      <td>0</td>\n",
              "      <td>0</td>\n",
              "      <td>0</td>\n",
              "      <td>0</td>\n",
              "    </tr>\n",
              "    <tr>\n",
              "      <th>...</th>\n",
              "      <td>...</td>\n",
              "      <td>...</td>\n",
              "      <td>...</td>\n",
              "      <td>...</td>\n",
              "      <td>...</td>\n",
              "      <td>...</td>\n",
              "      <td>...</td>\n",
              "    </tr>\n",
              "    <tr>\n",
              "      <th>8984</th>\n",
              "      <td>29957</td>\n",
              "      <td>1</td>\n",
              "      <td>0</td>\n",
              "      <td>0</td>\n",
              "      <td>0</td>\n",
              "      <td>0</td>\n",
              "      <td>0</td>\n",
              "    </tr>\n",
              "    <tr>\n",
              "      <th>8985</th>\n",
              "      <td>29958</td>\n",
              "      <td>1</td>\n",
              "      <td>0</td>\n",
              "      <td>1</td>\n",
              "      <td>0</td>\n",
              "      <td>0</td>\n",
              "      <td>0</td>\n",
              "    </tr>\n",
              "    <tr>\n",
              "      <th>8986</th>\n",
              "      <td>29959</td>\n",
              "      <td>0</td>\n",
              "      <td>0</td>\n",
              "      <td>0</td>\n",
              "      <td>0</td>\n",
              "      <td>0</td>\n",
              "      <td>0</td>\n",
              "    </tr>\n",
              "    <tr>\n",
              "      <th>8987</th>\n",
              "      <td>29960</td>\n",
              "      <td>0</td>\n",
              "      <td>0</td>\n",
              "      <td>0</td>\n",
              "      <td>1</td>\n",
              "      <td>0</td>\n",
              "      <td>0</td>\n",
              "    </tr>\n",
              "    <tr>\n",
              "      <th>8988</th>\n",
              "      <td>29961</td>\n",
              "      <td>0</td>\n",
              "      <td>0</td>\n",
              "      <td>0</td>\n",
              "      <td>0</td>\n",
              "      <td>0</td>\n",
              "      <td>0</td>\n",
              "    </tr>\n",
              "  </tbody>\n",
              "</table>\n",
              "<p>8989 rows × 7 columns</p>\n",
              "</div>"
            ],
            "text/plain": [
              "         ID  Computer Science  ...  Quantitative Biology  Quantitative Finance\n",
              "0     20973                 0  ...                     0                     0\n",
              "1     20974                 0  ...                     0                     0\n",
              "2     20975                 1  ...                     0                     0\n",
              "3     20976                 0  ...                     0                     0\n",
              "4     20977                 1  ...                     0                     0\n",
              "...     ...               ...  ...                   ...                   ...\n",
              "8984  29957                 1  ...                     0                     0\n",
              "8985  29958                 1  ...                     0                     0\n",
              "8986  29959                 0  ...                     0                     0\n",
              "8987  29960                 0  ...                     0                     0\n",
              "8988  29961                 0  ...                     0                     0\n",
              "\n",
              "[8989 rows x 7 columns]"
            ]
          },
          "metadata": {
            "tags": []
          },
          "execution_count": 72
        }
      ]
    },
    {
      "cell_type": "code",
      "metadata": {
        "id": "RChomEtjwxwt",
        "colab_type": "code",
        "colab": {}
      },
      "source": [
        "final_submit.to_csv('dataaaa.csv',index=False)"
      ],
      "execution_count": 73,
      "outputs": []
    },
    {
      "cell_type": "code",
      "metadata": {
        "id": "QDZz6SDAyFsW",
        "colab_type": "code",
        "colab": {}
      },
      "source": [
        ""
      ],
      "execution_count": 73,
      "outputs": []
    },
    {
      "cell_type": "code",
      "metadata": {
        "id": "nJ1Xp8hIzhri",
        "colab_type": "code",
        "colab": {}
      },
      "source": [
        ""
      ],
      "execution_count": 73,
      "outputs": []
    }
  ]
}